{
  "nbformat": 4,
  "nbformat_minor": 0,
  "metadata": {
    "colab": {
      "name": "Language Translator.ipynb",
      "provenance": [],
      "collapsed_sections": [],
      "authorship_tag": "ABX9TyP5HWDqL/eirfHGMkNQkUDo",
      "include_colab_link": true
    },
    "kernelspec": {
      "name": "python3",
      "display_name": "Python 3"
    },
    "language_info": {
      "name": "python"
    }
  },
  "cells": [
    {
      "cell_type": "markdown",
      "metadata": {
        "id": "view-in-github",
        "colab_type": "text"
      },
      "source": [
        "<a href=\"https://colab.research.google.com/github/HurairaBaloch/kaam/blob/master/Language_Translator.ipynb\" target=\"_parent\"><img src=\"https://colab.research.google.com/assets/colab-badge.svg\" alt=\"Open In Colab\"/></a>"
      ]
    },
    {
      "cell_type": "code",
      "source": [
        "!pip install streamlit"
      ],
      "metadata": {
        "id": "GKc6FbJB2z-W"
      },
      "execution_count": null,
      "outputs": []
    },
    {
      "cell_type": "code",
      "source": [
        "!pip install ibm_watson"
      ],
      "metadata": {
        "id": "kAI0mgf23CLC"
      },
      "execution_count": null,
      "outputs": []
    },
    {
      "cell_type": "code",
      "execution_count": 4,
      "metadata": {
        "id": "aBIgETW72iFF"
      },
      "outputs": [],
      "source": [
        "import streamlit as st\n",
        "import numpy as np\n",
        "from ibm_watson import LanguageTranslatorV3\n",
        "from ibm_cloud_sdk_core.authenticators import IAMAuthenticator, authenticator\n"
      ]
    },
    {
      "cell_type": "code",
      "source": [
        "api_key = 'BqzqJhhrKk9SyPJ4LLiRaBpla1jPKMJa8Lu_O3tZIyx7'\n",
        "url = 'https://api.au-syd.language-translator.watson.cloud.ibm.com/instances/f508312c-d6aa-4c66-8051-62c43dea1b61'"
      ],
      "metadata": {
        "id": "ckKK0FgC2pfB"
      },
      "execution_count": 31,
      "outputs": []
    },
    {
      "cell_type": "code",
      "source": [
        "authenticator = IAMAuthenticator(apikey=api_key)\n",
        "\n",
        "langtranslator = LanguageTranslatorV3(\n",
        "    version='2018-05-01', authenticator=authenticator)\n",
        "\n",
        "langtranslator.set_service_url(url)\n",
        "\n"
      ],
      "metadata": {
        "id": "2bKzuxZV3Odw"
      },
      "execution_count": 43,
      "outputs": []
    },
    {
      "cell_type": "code",
      "source": [
        "st.title(\"Language-Translator\")"
      ],
      "metadata": {
        "colab": {
          "base_uri": "https://localhost:8080/"
        },
        "id": "LNuxGspD-Ur0",
        "outputId": "36b373b0-786a-4f0f-a10a-eb6b84a18b25"
      },
      "execution_count": 42,
      "outputs": [
        {
          "output_type": "execute_result",
          "data": {
            "text/plain": [
              "DeltaGenerator(_root_container=0, _provided_cursor=None, _parent=None, _block_type=None, _form_data=None)"
            ]
          },
          "metadata": {},
          "execution_count": 42
        }
      ]
    },
    {
      "cell_type": "code",
      "source": [
        "trans=langtranslator.translate(text= 'How are you?',model_id='en-ur' )"
      ],
      "metadata": {
        "id": "wsAHzBOk-f3O"
      },
      "execution_count": 57,
      "outputs": []
    },
    {
      "cell_type": "code",
      "source": [
        "trans.get_result()"
      ],
      "metadata": {
        "colab": {
          "base_uri": "https://localhost:8080/"
        },
        "id": "dF7es4DN-0pg",
        "outputId": "b69e079b-c69d-4647-db66-c13f14ec47f5"
      },
      "execution_count": 58,
      "outputs": [
        {
          "output_type": "execute_result",
          "data": {
            "text/plain": [
              "{'translations': [{'translation': 'آپ کیسے ہیں?'}],\n",
              " 'word_count': 4,\n",
              " 'character_count': 12}"
            ]
          },
          "metadata": {},
          "execution_count": 58
        }
      ]
    },
    {
      "cell_type": "code",
      "source": [
        "text='This Is Just My Opinion But When It Comes To Teaching Somebody Discipline'\n",
        "trans=langtranslator.translate(text=text,model_id='en-ur')\n",
        "trans.get_result()"
      ],
      "metadata": {
        "colab": {
          "base_uri": "https://localhost:8080/"
        },
        "id": "sNczu7CBARgp",
        "outputId": "6f233f24-e019-4475-960c-2096c2615cec"
      },
      "execution_count": 64,
      "outputs": [
        {
          "output_type": "execute_result",
          "data": {
            "text/plain": [
              "{'translations': [{'translation': 'یہ صرف میری رائے ہے لیکن جب یہ کسی کو نظم و ضبط کی تعلیم دینے کے لئے آتا ہے'}],\n",
              " 'word_count': 13,\n",
              " 'character_count': 73}"
            ]
          },
          "metadata": {},
          "execution_count": 64
        }
      ]
    },
    {
      "cell_type": "code",
      "source": [
        "option = st.selectbox(\n",
        "    'Which language would you choose to type',\n",
        "    ('English', 'Arabic', 'Hindi', 'German', 'Spanish', 'Korean','Urdu'))"
      ],
      "metadata": {
        "id": "54K_AuXr3lF5"
      },
      "execution_count": 63,
      "outputs": []
    },
    {
      "cell_type": "code",
      "source": [
        "option1 = st.selectbox('Which language would you like to translate to',\n",
        "                       ('English', 'Arabic', 'Hindi', 'German', 'Spanish', 'Korean','Urdu'))"
      ],
      "metadata": {
        "id": "TtfGBTXA31LY"
      },
      "execution_count": 34,
      "outputs": []
    },
    {
      "cell_type": "code",
      "source": [
        "sent = \"Enter the text in \"+option+\" language in the text-area provided below\""
      ],
      "metadata": {
        "id": "v-Xso6Hv3-Es"
      },
      "execution_count": 35,
      "outputs": []
    },
    {
      "cell_type": "code",
      "source": [
        "language_lib = {'English': 'en', 'Arabic': 'ar',\n",
        "                'Hindi': 'hi', 'Spanish': 'es', 'German': 'de', 'Korean': 'ko','Urdu':'ur'}"
      ],
      "metadata": {
        "id": "JnWhpSyz4CuC"
      },
      "execution_count": 36,
      "outputs": []
    },
    {
      "cell_type": "code",
      "source": [
        "sentence = st.text_area(sent, height=250)"
      ],
      "metadata": {
        "id": "X1cwnnRb4IaW"
      },
      "execution_count": 37,
      "outputs": []
    },
    {
      "cell_type": "code",
      "source": [
        "if st.button(\"Translate\"):\n",
        "\n",
        "    try:\n",
        "\n",
        "        if option == option1:\n",
        "            st.write(\"Please Select different Language for Translation\")\n",
        "\n",
        "        else:\n",
        "\n",
        "            translate_code = language_lib[option]+'-'+language_lib[option1]\n",
        "\n",
        "            translation = langtranslator.translate(\n",
        "                text=sentence, model_id=translate_code)\n",
        "\n",
        "            ans = translation.get_result()['translations'][0]['translation']\n",
        "\n",
        "            sent1 = 'Translated text in '+option1+' language is shown below'\n",
        "\n",
        "            st.markdown(sent1)\n",
        "            st.write(ans)\n",
        "\n",
        "    except:\n",
        "        st.write(\"Please do cross check if text-area is filled with sentences or not\")\n"
      ],
      "metadata": {
        "id": "CS1ZAF_h4LDQ"
      },
      "execution_count": 38,
      "outputs": []
    },
    {
      "cell_type": "code",
      "source": [
        ""
      ],
      "metadata": {
        "id": "CAxNbpLS9la0"
      },
      "execution_count": null,
      "outputs": []
    }
  ]
}